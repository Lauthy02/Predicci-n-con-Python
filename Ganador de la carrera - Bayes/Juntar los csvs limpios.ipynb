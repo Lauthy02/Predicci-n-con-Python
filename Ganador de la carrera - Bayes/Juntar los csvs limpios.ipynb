{
 "cells": [
  {
   "cell_type": "code",
   "execution_count": 1,
   "metadata": {},
   "outputs": [],
   "source": [
    "import pandas as pd\n",
    "\n",
    "# Leer cada archivo CSV en un DataFrame\n",
    "df1 = pd.read_csv('csvs_f1_limpios/f1_data_limpia_2019.csv')\n",
    "df2 = pd.read_csv('csvs_f1_limpios/f1_data_limpia_2020.csv')\n",
    "df3 = pd.read_csv('csvs_f1_limpios/f1_data_limpia_2021.csv')\n",
    "df4 = pd.read_csv('csvs_f1_limpios/f1_data_limpia_2022.csv')\n",
    "\n",
    "# Concatenar los DataFrames verticalmente (uno encima del otro)\n",
    "df_combined = pd.concat([df1, df2, df3, df4], ignore_index=True)\n",
    "\n",
    "# Eliminar filas que contienen valores nulos\n",
    "df_combined_limpio = df_combined.dropna()\n",
    "\n",
    "# Guardar el DataFrame combinado en un nuevo archivo CSV\n",
    "df_combined_limpio.to_csv('csvs_f1_limpios/f1_data_limpia_2019_2022.csv', index=False)"
   ]
  }
 ],
 "metadata": {
  "kernelspec": {
   "display_name": "Python 3",
   "language": "python",
   "name": "python3"
  },
  "language_info": {
   "codemirror_mode": {
    "name": "ipython",
    "version": 3
   },
   "file_extension": ".py",
   "mimetype": "text/x-python",
   "name": "python",
   "nbconvert_exporter": "python",
   "pygments_lexer": "ipython3",
   "version": "3.12.0"
  }
 },
 "nbformat": 4,
 "nbformat_minor": 2
}
